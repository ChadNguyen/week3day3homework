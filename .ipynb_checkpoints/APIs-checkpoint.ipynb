{
 "cells": [
  {
   "cell_type": "markdown",
   "metadata": {},
   "source": [
    "# APIs\n"
   ]
  },
  {
   "cell_type": "markdown",
   "metadata": {},
   "source": [
    "## Tasks Today:\n",
    "1) <b>Requests and the pokemon API </b> <br>\n",
    " "
   ]
  },
  {
   "cell_type": "markdown",
   "metadata": {},
   "source": [
    "# working with APis"
   ]
  },
  {
   "cell_type": "markdown",
   "metadata": {},
   "source": [
    "<p> What exactly is an API? <br> <br>\n",
    "API is the acronym for Application Programming Interface, which is a software intermediary that allows two applications to talk to each other. Each time you use an app like Facebook, send an instant message, or check the weather on your phone, you're using an API. </p>"
   ]
  },
  {
   "cell_type": "markdown",
   "metadata": {},
   "source": [
    "### The Poke API  allows you to retreive a pokemon's information from PokeAPI https://pokeapi.co/\n",
    "\n"
   ]
  },
  {
   "cell_type": "code",
   "execution_count": 3,
   "metadata": {},
   "outputs": [
    {
     "name": "stdout",
     "output_type": "stream",
     "text": [
      "ERROR, STATUS CODE 404\n"
     ]
    }
   ],
   "source": [
    "# making an API call\n",
    "import requests\n",
    "\n",
    "pokemon = input('Enter a pokemon: ')\n",
    "\n",
    "url = f'https://pokeapi.co/api/v2/pokemon/{pokemon}/'\n",
    "\n",
    "requests.get(url)\n",
    "\n",
    "response = requests.get(url)\n",
    "\n",
    "if response.status_code == 200:\n",
    "    print('success')\n",
    "    data = response.json()\n",
    "else:\n",
    "    print(f'ERROR, STATUS CODE {response.status_code}')"
   ]
  },
  {
   "cell_type": "code",
   "execution_count": 4,
   "metadata": {},
   "outputs": [
    {
     "ename": "NameError",
     "evalue": "name 'data' is not defined",
     "output_type": "error",
     "traceback": [
      "\u001b[1;31m---------------------------------------------------------------------------\u001b[0m",
      "\u001b[1;31mNameError\u001b[0m                                 Traceback (most recent call last)",
      "Cell \u001b[1;32mIn[4], line 1\u001b[0m\n\u001b[1;32m----> 1\u001b[0m \u001b[39mprint\u001b[39m(data[\u001b[39m'\u001b[39m\u001b[39mname\u001b[39m\u001b[39m'\u001b[39m])\n",
      "\u001b[1;31mNameError\u001b[0m: name 'data' is not defined"
     ]
    }
   ],
   "source": [
    "print(data['name'])"
   ]
  },
  {
   "cell_type": "code",
   "execution_count": null,
   "metadata": {},
   "outputs": [],
   "source": []
  },
  {
   "cell_type": "markdown",
   "metadata": {},
   "source": [
    "### Display a Pokemon's name, weight, abilities, and types"
   ]
  },
  {
   "cell_type": "code",
   "execution_count": null,
   "metadata": {},
   "outputs": [
    {
     "name": "stdout",
     "output_type": "stream",
     "text": [
      "pikachu\n",
      "25\n"
     ]
    }
   ],
   "source": [
    "# get the name\n",
    "print(data['name'])\n",
    "print(data['id'])"
   ]
  },
  {
   "cell_type": "code",
   "execution_count": null,
   "metadata": {},
   "outputs": [
    {
     "ename": "KeyError",
     "evalue": "'types'",
     "output_type": "error",
     "traceback": [
      "\u001b[1;31m---------------------------------------------------------------------------\u001b[0m",
      "\u001b[1;31mKeyError\u001b[0m                                  Traceback (most recent call last)",
      "Cell \u001b[1;32mIn[8], line 4\u001b[0m\n\u001b[0;32m      1\u001b[0m \u001b[39m# get types\u001b[39;00m\n\u001b[0;32m      2\u001b[0m types \u001b[39m=\u001b[39m data[\u001b[39m'\u001b[39m\u001b[39mtypes\u001b[39m\u001b[39m'\u001b[39m]\n\u001b[1;32m----> 4\u001b[0m types \u001b[39m=\u001b[39m \u001b[39mlist\u001b[39;49m(\u001b[39mmap\u001b[39;49m(\u001b[39mlambda\u001b[39;49;00m x: x [\u001b[39m'\u001b[39;49m\u001b[39mtypes\u001b[39;49m\u001b[39m'\u001b[39;49m][\u001b[39m'\u001b[39;49m\u001b[39mname\u001b[39;49m\u001b[39m'\u001b[39;49m], types))\n",
      "Cell \u001b[1;32mIn[8], line 4\u001b[0m, in \u001b[0;36m<lambda>\u001b[1;34m(x)\u001b[0m\n\u001b[0;32m      1\u001b[0m \u001b[39m# get types\u001b[39;00m\n\u001b[0;32m      2\u001b[0m types \u001b[39m=\u001b[39m data[\u001b[39m'\u001b[39m\u001b[39mtypes\u001b[39m\u001b[39m'\u001b[39m]\n\u001b[1;32m----> 4\u001b[0m types \u001b[39m=\u001b[39m \u001b[39mlist\u001b[39m(\u001b[39mmap\u001b[39m(\u001b[39mlambda\u001b[39;00m x: x [\u001b[39m'\u001b[39;49m\u001b[39mtypes\u001b[39;49m\u001b[39m'\u001b[39;49m][\u001b[39m'\u001b[39m\u001b[39mname\u001b[39m\u001b[39m'\u001b[39m], types))\n",
      "\u001b[1;31mKeyError\u001b[0m: 'types'"
     ]
    }
   ],
   "source": [
    "# get types\n",
    "types = data['types']\n",
    "\n",
    "types = list(map(lambda x: x ['types']['name'], types))"
   ]
  },
  {
   "cell_type": "code",
   "execution_count": null,
   "metadata": {},
   "outputs": [
    {
     "data": {
      "text/plain": [
       "[{'slot': 1,\n",
       "  'type': {'name': 'electric', 'url': 'https://pokeapi.co/api/v2/type/13/'}}]"
      ]
     },
     "execution_count": 9,
     "metadata": {},
     "output_type": "execute_result"
    }
   ],
   "source": [
    "types"
   ]
  },
  {
   "cell_type": "code",
   "execution_count": null,
   "metadata": {},
   "outputs": [
    {
     "name": "stdout",
     "output_type": "stream",
     "text": [
      "60\n"
     ]
    }
   ],
   "source": [
    "# get weight\n",
    "weight = data['weight']\n",
    "\n",
    "print(data['weight'])"
   ]
  },
  {
   "cell_type": "code",
   "execution_count": null,
   "metadata": {},
   "outputs": [],
   "source": []
  },
  {
   "cell_type": "code",
   "execution_count": null,
   "metadata": {},
   "outputs": [
    {
     "name": "stdout",
     "output_type": "stream",
     "text": [
      "[{'ability': {'name': 'static', 'url': 'https://pokeapi.co/api/v2/ability/9/'}, 'is_hidden': False, 'slot': 1}, {'ability': {'name': 'lightning-rod', 'url': 'https://pokeapi.co/api/v2/ability/31/'}, 'is_hidden': True, 'slot': 3}]\n"
     ]
    }
   ],
   "source": [
    "# get abilities\n",
    "abilities = data['abilities']\n",
    "\n",
    "print(data['abilities'])"
   ]
  },
  {
   "cell_type": "code",
   "execution_count": null,
   "metadata": {},
   "outputs": [],
   "source": [
    "# Create a structure for a single pokemon\n",
    "\n",
    "class Pokemon:\n",
    "    def __init__(self, name, types, weight, abilities):\n",
    "        self.name = name\n",
    "        self.types = types\n",
    "        self.weight = weight\n",
    "        self.abilities = abilities"
   ]
  },
  {
   "cell_type": "code",
   "execution_count": null,
   "metadata": {},
   "outputs": [],
   "source": [
    "my_pokemon = Pokemon(name, types, weight, abilities)"
   ]
  },
  {
   "cell_type": "code",
   "execution_count": null,
   "metadata": {},
   "outputs": [
    {
     "data": {
      "text/plain": [
       "'pikachu'"
      ]
     },
     "execution_count": 15,
     "metadata": {},
     "output_type": "execute_result"
    }
   ],
   "source": [
    "my_pokemon.name"
   ]
  },
  {
   "cell_type": "code",
   "execution_count": null,
   "metadata": {},
   "outputs": [],
   "source": []
  },
  {
   "cell_type": "code",
   "execution_count": null,
   "metadata": {},
   "outputs": [],
   "source": []
  },
  {
   "cell_type": "code",
   "execution_count": null,
   "metadata": {},
   "outputs": [
    {
     "name": "stdout",
     "output_type": "stream",
     "text": [
      "pikachu\n",
      "[{'slot': 1, 'type': {'name': 'electric', 'url': 'https://pokeapi.co/api/v2/type/13/'}}]\n",
      "60\n",
      "[{'ability': {'name': 'static', 'url': 'https://pokeapi.co/api/v2/ability/9/'}, 'is_hidden': False, 'slot': 1}, {'ability': {'name': 'lightning-rod', 'url': 'https://pokeapi.co/api/v2/ability/31/'}, 'is_hidden': True, 'slot': 3}]\n"
     ]
    }
   ],
   "source": [
    "# Create a structure for a single pokemon\n",
    "print(data['name'])\n",
    "print(data['types'])\n",
    "print(data['weight'])\n",
    "print(data['abilities'])\n",
    "\n",
    "Pokemon = {\n",
    "    'id': data['id'],\n",
    "    'name': data['name'],\n",
    "    'type': data['types'],\n",
    "    'weight': data['weight'],\n",
    "    'height': data['height'],\n",
    "    'abilities': data['abilities']\n",
    "}\n",
    "\n"
   ]
  },
  {
   "cell_type": "code",
   "execution_count": null,
   "metadata": {},
   "outputs": [],
   "source": []
  },
  {
   "cell_type": "markdown",
   "metadata": {},
   "source": [
    "#### Create a function to Pull in your own Pokemon's data "
   ]
  },
  {
   "cell_type": "code",
   "execution_count": 1,
   "metadata": {},
   "outputs": [],
   "source": [
    "def poke_api_call(pokemon):\n",
    "    # Use the pokemon parameter to make a request to the pokeapi\n",
    "    response = requests.get(f'https://pokeapi.co/api/v2/pokemon/{pokemon}/')\n",
    "    \n",
    "    # if the status code is 200:\n",
    "    if response.status_code == 200:\n",
    "        # Get the pokemon's data with the json method\n",
    "        data = response.json()\n",
    "        # Pull out the name, weight, types, abilities\n",
    "        name = data['name']\n",
    "        \n",
    "        types = data['types']\n",
    "        types = list(map(lambda x: x['type']['name'], types))\n",
    "        \n",
    "        weight = data['weight']\n",
    "        \n",
    "        abilities = data['abilities']\n",
    "        abilities = list(map(lambda x: x['ability']['name'], abilities))\n",
    "        # Create an instance of the Pokemon class\n",
    "        pokemon = Pokemon(name, types, weight, abilities)\n",
    "        # Return the instance of the class\n",
    "        return pokemon\n",
    "    # if the status code is not 200, print an error message\n",
    "    else:\n",
    "        print(f'ERROR, STATUS CODE {response.status_code}')\n"
   ]
  },
  {
   "cell_type": "markdown",
   "metadata": {},
   "source": [
    "Choose your pokemon"
   ]
  },
  {
   "cell_type": "code",
   "execution_count": 2,
   "metadata": {},
   "outputs": [
    {
     "ename": "AttributeError",
     "evalue": "'int' object has no attribute 'name'",
     "output_type": "error",
     "traceback": [
      "\u001b[1;31m---------------------------------------------------------------------------\u001b[0m",
      "\u001b[1;31mAttributeError\u001b[0m                            Traceback (most recent call last)",
      "Cell \u001b[1;32mIn[2], line 8\u001b[0m\n\u001b[0;32m      5\u001b[0m your_team \u001b[38;5;241m=\u001b[39m [randint(\u001b[38;5;241m1\u001b[39m,\u001b[38;5;241m898\u001b[39m) \u001b[38;5;28;01mfor\u001b[39;00m i \u001b[38;5;129;01min\u001b[39;00m \u001b[38;5;28mrange\u001b[39m(\u001b[38;5;241m6\u001b[39m)]\n\u001b[0;32m      7\u001b[0m \u001b[38;5;28;01mfor\u001b[39;00m team_member \u001b[38;5;129;01min\u001b[39;00m random_team:\n\u001b[1;32m----> 8\u001b[0m     \u001b[38;5;28mprint\u001b[39m(\u001b[43mteam_member\u001b[49m\u001b[38;5;241;43m.\u001b[39;49m\u001b[43mname\u001b[49m)\n",
      "\u001b[1;31mAttributeError\u001b[0m: 'int' object has no attribute 'name'"
     ]
    }
   ],
   "source": [
    "from random import randint\n",
    "# Random number generated for each pokemon id\n",
    "random_team = [randint(1,898) for i in range(6)]\n",
    "\n",
    "your_team = [randint(1,898) for i in range(6)]\n",
    "\n",
    "for team_member in random_team:\n",
    "    print(team_member.name)\n",
    "\n"
   ]
  },
  {
   "cell_type": "code",
   "execution_count": 3,
   "metadata": {},
   "outputs": [
    {
     "ename": "NameError",
     "evalue": "name 'requests' is not defined",
     "output_type": "error",
     "traceback": [
      "\u001b[1;31m---------------------------------------------------------------------------\u001b[0m",
      "\u001b[1;31mNameError\u001b[0m                                 Traceback (most recent call last)",
      "Cell \u001b[1;32mIn[3], line 1\u001b[0m\n\u001b[1;32m----> 1\u001b[0m random_team \u001b[38;5;241m=\u001b[39m \u001b[38;5;28;43mlist\u001b[39;49m\u001b[43m(\u001b[49m\u001b[38;5;28;43mmap\u001b[39;49m\u001b[43m(\u001b[49m\u001b[43mpoke_api_call\u001b[49m\u001b[43m,\u001b[49m\u001b[43m \u001b[49m\u001b[43mrandom_team\u001b[49m\u001b[43m)\u001b[49m\u001b[43m)\u001b[49m\n\u001b[0;32m      2\u001b[0m your_team \u001b[38;5;241m=\u001b[39m \u001b[38;5;28mlist\u001b[39m(\u001b[38;5;28mmap\u001b[39m(poke_api_call, random_team))\n",
      "Cell \u001b[1;32mIn[1], line 3\u001b[0m, in \u001b[0;36mpoke_api_call\u001b[1;34m(pokemon)\u001b[0m\n\u001b[0;32m      1\u001b[0m \u001b[38;5;28;01mdef\u001b[39;00m \u001b[38;5;21mpoke_api_call\u001b[39m(pokemon):\n\u001b[0;32m      2\u001b[0m     \u001b[38;5;66;03m# Use the pokemon parameter to make a request to the pokeapi\u001b[39;00m\n\u001b[1;32m----> 3\u001b[0m     response \u001b[38;5;241m=\u001b[39m \u001b[43mrequests\u001b[49m\u001b[38;5;241m.\u001b[39mget(\u001b[38;5;124mf\u001b[39m\u001b[38;5;124m'\u001b[39m\u001b[38;5;124mhttps://pokeapi.co/api/v2/pokemon/\u001b[39m\u001b[38;5;132;01m{\u001b[39;00mpokemon\u001b[38;5;132;01m}\u001b[39;00m\u001b[38;5;124m/\u001b[39m\u001b[38;5;124m'\u001b[39m)\n\u001b[0;32m      5\u001b[0m     \u001b[38;5;66;03m# if the status code is 200:\u001b[39;00m\n\u001b[0;32m      6\u001b[0m     \u001b[38;5;28;01mif\u001b[39;00m response\u001b[38;5;241m.\u001b[39mstatus_code \u001b[38;5;241m==\u001b[39m \u001b[38;5;241m200\u001b[39m:\n\u001b[0;32m      7\u001b[0m         \u001b[38;5;66;03m# Get the pokemon's data with the json method\u001b[39;00m\n",
      "\u001b[1;31mNameError\u001b[0m: name 'requests' is not defined"
     ]
    }
   ],
   "source": [
    "random_team = list(map(poke_api_call, random_team))\n",
    "your_team = list(map(poke_api_call, random_team))"
   ]
  },
  {
   "cell_type": "code",
   "execution_count": 4,
   "metadata": {},
   "outputs": [
    {
     "name": "stdout",
     "output_type": "stream",
     "text": [
      "[719, 152, 169, 502, 74, 585]\n"
     ]
    }
   ],
   "source": [
    "print(random_team)"
   ]
  },
  {
   "cell_type": "code",
   "execution_count": null,
   "metadata": {},
   "outputs": [],
   "source": []
  },
  {
   "cell_type": "code",
   "execution_count": 5,
   "metadata": {},
   "outputs": [
    {
     "name": "stdout",
     "output_type": "stream",
     "text": [
      "[719, 152, 169, 502, 74, 585]\n",
      "[76, 439, 534, 833, 522, 337]\n"
     ]
    }
   ],
   "source": [
    "print(random_team)\n",
    "print(your_team)"
   ]
  },
  {
   "cell_type": "markdown",
   "metadata": {},
   "source": [
    "#### Use your function to create a dictionary of your Johto League 6  (favorite 6 pokemon)"
   ]
  },
  {
   "cell_type": "code",
   "execution_count": 6,
   "metadata": {},
   "outputs": [
    {
     "ename": "AttributeError",
     "evalue": "'int' object has no attribute 'name'",
     "output_type": "error",
     "traceback": [
      "\u001b[1;31m---------------------------------------------------------------------------\u001b[0m",
      "\u001b[1;31mAttributeError\u001b[0m                            Traceback (most recent call last)",
      "Cell \u001b[1;32mIn[6], line 5\u001b[0m\n\u001b[0;32m      2\u001b[0m my_six_pokemon \u001b[38;5;241m=\u001b[39m {}\n\u001b[0;32m      4\u001b[0m \u001b[38;5;28;01mfor\u001b[39;00m team_member \u001b[38;5;129;01min\u001b[39;00m your_team:\n\u001b[1;32m----> 5\u001b[0m     my_six_pokemon[\u001b[43mteam_member\u001b[49m\u001b[38;5;241;43m.\u001b[39;49m\u001b[43mname\u001b[49m] \u001b[38;5;241m=\u001b[39m team_member\n\u001b[0;32m      7\u001b[0m \u001b[38;5;28mprint\u001b[39m(my_six_pokemon)\n",
      "\u001b[1;31mAttributeError\u001b[0m: 'int' object has no attribute 'name'"
     ]
    }
   ],
   "source": [
    "# Place all 6 of your pokemon on the object below, each pokemon should have at least as much info as Pikachu did.\n",
    "my_six_pokemon = {}\n",
    "\n",
    "for team_member in your_team:\n",
    "    my_six_pokemon[team_member.name] = team_member\n",
    "\n",
    "print(my_six_pokemon)"
   ]
  },
  {
   "cell_type": "markdown",
   "metadata": {},
   "source": [
    "## Lets create a class called 'Pokemon' and create our pokemon as instances"
   ]
  },
  {
   "cell_type": "code",
   "execution_count": 13,
   "metadata": {},
   "outputs": [],
   "source": [
    "class Pokemon():\n",
    "    pass"
   ]
  },
  {
   "cell_type": "markdown",
   "metadata": {},
   "source": [
    "### Let's Catch some Pokemon"
   ]
  },
  {
   "cell_type": "code",
   "execution_count": null,
   "metadata": {},
   "outputs": [],
   "source": []
  },
  {
   "cell_type": "code",
   "execution_count": 14,
   "metadata": {},
   "outputs": [],
   "source": [
    "pokedex = {}\n"
   ]
  },
  {
   "cell_type": "markdown",
   "metadata": {},
   "source": [
    "## Exercise 1:"
   ]
  },
  {
   "cell_type": "markdown",
   "metadata": {},
   "source": [
    "### Create a Method prints an image of your pokemon\n",
    "\n",
    "<p>HINT: You may need another attribute as well to store your image url within. </p>"
   ]
  },
  {
   "cell_type": "code",
   "execution_count": 260,
   "metadata": {},
   "outputs": [],
   "source": [
    "# Display an image in Jupyter notebook\n",
    "from IPython.display import Image\n",
    "\n",
    "# display(Image( 'https://i.redd.it/45n4mhusa8l41.jpg', width = 300))\n"
   ]
  },
  {
   "cell_type": "code",
   "execution_count": 16,
   "metadata": {},
   "outputs": [],
   "source": [
    "# recreate your pokemon class here\n",
    "class Pokemon:\n",
    "    pass"
   ]
  },
  {
   "cell_type": "code",
   "execution_count": null,
   "metadata": {},
   "outputs": [],
   "source": []
  },
  {
   "cell_type": "code",
   "execution_count": 18,
   "metadata": {},
   "outputs": [],
   "source": [
    "# Calling our new method\n"
   ]
  },
  {
   "cell_type": "markdown",
   "metadata": {},
   "source": [
    "## Exercise 2:"
   ]
  },
  {
   "cell_type": "markdown",
   "metadata": {},
   "source": [
    "### Create a Method that evolves your Pokemon\n",
    "If your pokemon can't evolve any further print a message that says \"\\<name of pokemon> can't evolve.\""
   ]
  },
  {
   "cell_type": "code",
   "execution_count": 321,
   "metadata": {},
   "outputs": [],
   "source": []
  },
  {
   "cell_type": "markdown",
   "metadata": {},
   "source": [
    "Now let's evolve a few"
   ]
  },
  {
   "cell_type": "code",
   "execution_count": null,
   "metadata": {
    "scrolled": true
   },
   "outputs": [],
   "source": []
  },
  {
   "cell_type": "code",
   "execution_count": null,
   "metadata": {},
   "outputs": [],
   "source": []
  },
  {
   "cell_type": "code",
   "execution_count": null,
   "metadata": {},
   "outputs": [],
   "source": []
  },
  {
   "cell_type": "markdown",
   "metadata": {},
   "source": [
    "#  Final Exercise: <br> <br>Create a Move_Tutor Class that will allow the Pokemon Class to inherit a move list.\n",
    "<br>\n",
    "<p>for an added bonus you can make sure that if a pokemon has 4 moves the user can choose one of them to replace with a new move. </p>"
   ]
  },
  {
   "cell_type": "code",
   "execution_count": 19,
   "metadata": {},
   "outputs": [],
   "source": [
    "class Move_Tutor:\n",
    "    def __init__(self):\n",
    "        self.move_list = []"
   ]
  },
  {
   "cell_type": "code",
   "execution_count": null,
   "metadata": {},
   "outputs": [],
   "source": []
  },
  {
   "cell_type": "code",
   "execution_count": 81,
   "metadata": {},
   "outputs": [
    {
     "name": "stdout",
     "output_type": "stream",
     "text": [
      "What move would you like to teach pikachu? spark\n",
      "pikachu learned spark!\n"
     ]
    }
   ],
   "source": [
    "pikachu.teach_move()\n"
   ]
  },
  {
   "cell_type": "code",
   "execution_count": 79,
   "metadata": {},
   "outputs": [
    {
     "name": "stdout",
     "output_type": "stream",
     "text": [
      "pikachu's moves'\n",
      "thunder\n",
      "surf\n",
      "earthquake\n"
     ]
    }
   ],
   "source": [
    "pikachu.show_moves()"
   ]
  }
 ],
 "metadata": {
  "kernelspec": {
   "display_name": "Python 3 (ipykernel)",
   "language": "python",
   "name": "python3"
  },
  "language_info": {
   "codemirror_mode": {
    "name": "ipython",
    "version": 3
   },
   "file_extension": ".py",
   "mimetype": "text/x-python",
   "name": "python",
   "nbconvert_exporter": "python",
   "pygments_lexer": "ipython3",
   "version": "3.9.13"
  },
  "vscode": {
   "interpreter": {
    "hash": "ad2bdc8ecc057115af97d19610ffacc2b4e99fae6737bb82f5d7fb13d2f2c186"
   }
  }
 },
 "nbformat": 4,
 "nbformat_minor": 4
}
