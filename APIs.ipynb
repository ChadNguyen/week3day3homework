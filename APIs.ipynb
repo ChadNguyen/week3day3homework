{
 "cells": [
  {
   "cell_type": "markdown",
   "metadata": {},
   "source": [
    "# APIs\n"
   ]
  },
  {
   "cell_type": "markdown",
   "metadata": {},
   "source": [
    "## Tasks Today:\n",
    "1) <b>Requests and the pokemon API </b> <br>\n",
    " "
   ]
  },
  {
   "cell_type": "markdown",
   "metadata": {},
   "source": [
    "# working with APis"
   ]
  },
  {
   "cell_type": "markdown",
   "metadata": {},
   "source": [
    "<p> What exactly is an API? <br> <br>\n",
    "API is the acronym for Application Programming Interface, which is a software intermediary that allows two applications to talk to each other. Each time you use an app like Facebook, send an instant message, or check the weather on your phone, you're using an API. </p>"
   ]
  },
  {
   "cell_type": "markdown",
   "metadata": {},
   "source": [
    "### The Poke API  allows you to retreive a pokemon's information from PokeAPI https://pokeapi.co/\n",
    "\n"
   ]
  },
  {
   "cell_type": "code",
   "execution_count": 1,
   "metadata": {},
   "outputs": [
    {
     "name": "stdout",
     "output_type": "stream",
     "text": [
      "success\n"
     ]
    }
   ],
   "source": [
    "# making an API call\n",
    "import requests\n",
    "\n",
    "pokemon = input('Enter a pokemon: ')\n",
    "\n",
    "url = f'https://pokeapi.co/api/v2/pokemon/{pokemon}/'\n",
    "\n",
    "requests.get(url)\n",
    "\n",
    "response = requests.get(url)\n",
    "\n",
    "if response.status_code == 200:\n",
    "    print('success')\n",
    "    data = response.json()\n",
    "else:\n",
    "    print(f'ERROR, STATUS CODE {response.status_code}')"
   ]
  },
  {
   "cell_type": "code",
   "execution_count": 2,
   "metadata": {},
   "outputs": [
    {
     "name": "stdout",
     "output_type": "stream",
     "text": [
      "squirtle\n"
     ]
    }
   ],
   "source": [
    "print(data['name'])"
   ]
  },
  {
   "cell_type": "markdown",
   "metadata": {},
   "source": [
    "### Display a Pokemon's name, weight, abilities, and types"
   ]
  },
  {
   "cell_type": "code",
   "execution_count": 3,
   "metadata": {},
   "outputs": [
    {
     "name": "stdout",
     "output_type": "stream",
     "text": [
      "squirtle\n",
      "7\n"
     ]
    }
   ],
   "source": [
    "# get the name\n",
    "print(data['name'])\n",
    "print(data['id'])"
   ]
  },
  {
   "cell_type": "code",
   "execution_count": 4,
   "metadata": {},
   "outputs": [
    {
     "ename": "KeyError",
     "evalue": "'types'",
     "output_type": "error",
     "traceback": [
      "\u001b[1;31m---------------------------------------------------------------------------\u001b[0m",
      "\u001b[1;31mKeyError\u001b[0m                                  Traceback (most recent call last)",
      "Cell \u001b[1;32mIn[4], line 4\u001b[0m\n\u001b[0;32m      1\u001b[0m \u001b[39m# get types\u001b[39;00m\n\u001b[0;32m      2\u001b[0m types \u001b[39m=\u001b[39m data[\u001b[39m'\u001b[39m\u001b[39mtypes\u001b[39m\u001b[39m'\u001b[39m]\n\u001b[1;32m----> 4\u001b[0m types \u001b[39m=\u001b[39m \u001b[39mlist\u001b[39;49m(\u001b[39mmap\u001b[39;49m(\u001b[39mlambda\u001b[39;49;00m x: x [\u001b[39m'\u001b[39;49m\u001b[39mtypes\u001b[39;49m\u001b[39m'\u001b[39;49m][\u001b[39m'\u001b[39;49m\u001b[39mname\u001b[39;49m\u001b[39m'\u001b[39;49m], types))\n",
      "Cell \u001b[1;32mIn[4], line 4\u001b[0m, in \u001b[0;36m<lambda>\u001b[1;34m(x)\u001b[0m\n\u001b[0;32m      1\u001b[0m \u001b[39m# get types\u001b[39;00m\n\u001b[0;32m      2\u001b[0m types \u001b[39m=\u001b[39m data[\u001b[39m'\u001b[39m\u001b[39mtypes\u001b[39m\u001b[39m'\u001b[39m]\n\u001b[1;32m----> 4\u001b[0m types \u001b[39m=\u001b[39m \u001b[39mlist\u001b[39m(\u001b[39mmap\u001b[39m(\u001b[39mlambda\u001b[39;00m x: x [\u001b[39m'\u001b[39;49m\u001b[39mtypes\u001b[39;49m\u001b[39m'\u001b[39;49m][\u001b[39m'\u001b[39m\u001b[39mname\u001b[39m\u001b[39m'\u001b[39m], types))\n",
      "\u001b[1;31mKeyError\u001b[0m: 'types'"
     ]
    }
   ],
   "source": [
    "# get types\n",
    "types = data['types']\n",
    "\n",
    "types = list(map(lambda x: x ['types']['name'], types))"
   ]
  },
  {
   "cell_type": "code",
   "execution_count": 5,
   "metadata": {},
   "outputs": [
    {
     "data": {
      "text/plain": [
       "[{'slot': 1,\n",
       "  'type': {'name': 'water', 'url': 'https://pokeapi.co/api/v2/type/11/'}}]"
      ]
     },
     "execution_count": 5,
     "metadata": {},
     "output_type": "execute_result"
    }
   ],
   "source": [
    "types"
   ]
  },
  {
   "cell_type": "code",
   "execution_count": 4,
   "metadata": {},
   "outputs": [
    {
     "name": "stdout",
     "output_type": "stream",
     "text": [
      "90\n"
     ]
    }
   ],
   "source": [
    "# get weight\n",
    "weight = data['weight']\n",
    "\n",
    "print(data['weight'])"
   ]
  },
  {
   "cell_type": "code",
   "execution_count": 5,
   "metadata": {},
   "outputs": [
    {
     "name": "stdout",
     "output_type": "stream",
     "text": [
      "[{'ability': {'name': 'torrent', 'url': 'https://pokeapi.co/api/v2/ability/67/'}, 'is_hidden': False, 'slot': 1}, {'ability': {'name': 'rain-dish', 'url': 'https://pokeapi.co/api/v2/ability/44/'}, 'is_hidden': True, 'slot': 3}]\n"
     ]
    }
   ],
   "source": [
    "# get abilities\n",
    "abilities = data['abilities']\n",
    "print(data['abilities'])"
   ]
  },
  {
   "cell_type": "code",
   "execution_count": 8,
   "metadata": {},
   "outputs": [
    {
     "ename": "NameError",
     "evalue": "name 'Pokemon' is not defined",
     "output_type": "error",
     "traceback": [
      "\u001b[1;31m---------------------------------------------------------------------------\u001b[0m",
      "\u001b[1;31mNameError\u001b[0m                                 Traceback (most recent call last)",
      "Cell \u001b[1;32mIn[8], line 1\u001b[0m\n\u001b[1;32m----> 1\u001b[0m my_pokemon \u001b[39m=\u001b[39m Pokemon(name, types, weight, abilities)\n",
      "\u001b[1;31mNameError\u001b[0m: name 'Pokemon' is not defined"
     ]
    }
   ],
   "source": [
    "my_pokemon = Pokemon(name, types, weight, abilities)"
   ]
  },
  {
   "cell_type": "code",
   "execution_count": 9,
   "metadata": {},
   "outputs": [
    {
     "ename": "NameError",
     "evalue": "name 'my_pokemon' is not defined",
     "output_type": "error",
     "traceback": [
      "\u001b[1;31m---------------------------------------------------------------------------\u001b[0m",
      "\u001b[1;31mNameError\u001b[0m                                 Traceback (most recent call last)",
      "Cell \u001b[1;32mIn[9], line 1\u001b[0m\n\u001b[1;32m----> 1\u001b[0m my_pokemon\u001b[39m.\u001b[39mname\n",
      "\u001b[1;31mNameError\u001b[0m: name 'my_pokemon' is not defined"
     ]
    }
   ],
   "source": [
    "my_pokemon.name"
   ]
  },
  {
   "cell_type": "markdown",
   "metadata": {},
   "source": [
    "#### Create a function to Pull in your own Pokemon's data "
   ]
  },
  {
   "cell_type": "code",
   "execution_count": 2,
   "metadata": {},
   "outputs": [],
   "source": [
    "# Create a structure for a single pokemon\n",
    "class Pokemon:\n",
    "    def __init__(self, name):\n",
    "        self.name = name\n",
    "        self.types = None\n",
    "        self.weight = None\n",
    "        self.abilities = None\n",
    "        self.sprite = None\n",
    "        self.poke_api_call()\n",
    "        \n",
    "    def poke_api_call(self):\n",
    "        response = requests.get(f'https://pokeapi.co/api/v2/pokemon/{self.name}/')\n",
    "        if response.status_code == 200:\n",
    "            data = response.json()\n",
    "            self.name = data['name']\n",
    "            types = data['types']\n",
    "            self.types = list(map(lambda x: x['type']['name'], types))\n",
    "            self.weight = data['weight']\n",
    "            abilities = data['abilities']\n",
    "            self.abilities = list(map(lambda x: x['ability']['name'], abilities))\n",
    "            self.sprite = data['sprites']['front_default']\n",
    "        else:\n",
    "            print(f'ERROR, STATUS CODE {response.status_code}')\n"
   ]
  },
  {
   "cell_type": "code",
   "execution_count": 3,
   "metadata": {},
   "outputs": [
    {
     "name": "stdout",
     "output_type": "stream",
     "text": [
      "ERROR, STATUS CODE 404\n"
     ]
    }
   ],
   "source": [
    "squirtle = Pokemon('Squirtle')\n"
   ]
  },
  {
   "cell_type": "markdown",
   "metadata": {},
   "source": [
    "Choose your pokemon"
   ]
  },
  {
   "cell_type": "code",
   "execution_count": 12,
   "metadata": {},
   "outputs": [
    {
     "ename": "NameError",
     "evalue": "name 'poke_api_call' is not defined",
     "output_type": "error",
     "traceback": [
      "\u001b[1;31m---------------------------------------------------------------------------\u001b[0m",
      "\u001b[1;31mNameError\u001b[0m                                 Traceback (most recent call last)",
      "Cell \u001b[1;32mIn[12], line 9\u001b[0m\n\u001b[0;32m      6\u001b[0m your_team_pokemon \u001b[39m=\u001b[39m []\n\u001b[0;32m      8\u001b[0m \u001b[39mfor\u001b[39;00m teammate \u001b[39min\u001b[39;00m your_team:\n\u001b[1;32m----> 9\u001b[0m     your_team_pokemon\u001b[39m.\u001b[39mappend(poke_api_call(your_team))\n",
      "\u001b[1;31mNameError\u001b[0m: name 'poke_api_call' is not defined"
     ]
    }
   ],
   "source": [
    "from random import randint\n",
    "# Random number generated for each pokemon id\n",
    "random_team = [randint(1,898) for i in range(6)]\n",
    "\n",
    "your_team = ['electabuzz', 'haunter','tyranitar','blaziken','marowak','dragonair']\n",
    "your_team_pokemon = []\n",
    "\n",
    "for teammate in your_team:\n",
    "    your_team_pokemon.append(poke_api_call(your_team))\n",
    "\n"
   ]
  },
  {
   "cell_type": "code",
   "execution_count": 13,
   "metadata": {},
   "outputs": [
    {
     "ename": "NameError",
     "evalue": "name 'poke_api_call' is not defined",
     "output_type": "error",
     "traceback": [
      "\u001b[1;31m---------------------------------------------------------------------------\u001b[0m",
      "\u001b[1;31mNameError\u001b[0m                                 Traceback (most recent call last)",
      "Cell \u001b[1;32mIn[13], line 1\u001b[0m\n\u001b[1;32m----> 1\u001b[0m random_team \u001b[39m=\u001b[39m \u001b[39mlist\u001b[39m(\u001b[39mmap\u001b[39m(poke_api_call, random_team))\n\u001b[0;32m      2\u001b[0m your_team \u001b[39m=\u001b[39m \u001b[39mlist\u001b[39m(\u001b[39mmap\u001b[39m(poke_api_call, teammate))\n",
      "\u001b[1;31mNameError\u001b[0m: name 'poke_api_call' is not defined"
     ]
    }
   ],
   "source": [
    "random_team = list(map(poke_api_call, random_team))\n",
    "your_team = list(map(poke_api_call, teammate))\n"
   ]
  },
  {
   "cell_type": "code",
   "execution_count": 14,
   "metadata": {},
   "outputs": [
    {
     "data": {
      "text/plain": [
       "[]"
      ]
     },
     "execution_count": 14,
     "metadata": {},
     "output_type": "execute_result"
    }
   ],
   "source": [
    "your_team_pokemon"
   ]
  },
  {
   "cell_type": "code",
   "execution_count": 15,
   "metadata": {},
   "outputs": [
    {
     "data": {
      "text/plain": [
       "[67, 806, 401, 758, 113, 472]"
      ]
     },
     "execution_count": 15,
     "metadata": {},
     "output_type": "execute_result"
    }
   ],
   "source": [
    "random_team"
   ]
  },
  {
   "cell_type": "code",
   "execution_count": 16,
   "metadata": {},
   "outputs": [
    {
     "name": "stdout",
     "output_type": "stream",
     "text": [
      "[67, 806, 401, 758, 113, 472]\n",
      "['electabuzz', 'haunter', 'tyranitar', 'blaziken', 'marowak', 'dragonair']\n"
     ]
    }
   ],
   "source": [
    "print(random_team)\n",
    "print(your_team)"
   ]
  },
  {
   "cell_type": "code",
   "execution_count": 17,
   "metadata": {},
   "outputs": [
    {
     "ename": "NameError",
     "evalue": "name 'poke_api_call' is not defined",
     "output_type": "error",
     "traceback": [
      "\u001b[1;31m---------------------------------------------------------------------------\u001b[0m",
      "\u001b[1;31mNameError\u001b[0m                                 Traceback (most recent call last)",
      "Cell \u001b[1;32mIn[17], line 4\u001b[0m\n\u001b[0;32m      1\u001b[0m random_team_pokemon \u001b[39m=\u001b[39m []\n\u001b[0;32m      3\u001b[0m \u001b[39mfor\u001b[39;00m teammate \u001b[39min\u001b[39;00m random_team:\n\u001b[1;32m----> 4\u001b[0m     random_team_pokemon\u001b[39m.\u001b[39mappend(poke_api_call(teammate))\n",
      "\u001b[1;31mNameError\u001b[0m: name 'poke_api_call' is not defined"
     ]
    }
   ],
   "source": [
    "random_team_pokemon = []\n",
    "\n",
    "for teammate in random_team:\n",
    "    random_team_pokemon.append(poke_api_call(teammate))"
   ]
  },
  {
   "cell_type": "code",
   "execution_count": 18,
   "metadata": {},
   "outputs": [
    {
     "data": {
      "text/plain": [
       "[]"
      ]
     },
     "execution_count": 18,
     "metadata": {},
     "output_type": "execute_result"
    }
   ],
   "source": [
    "random_team_pokemon"
   ]
  },
  {
   "cell_type": "markdown",
   "metadata": {},
   "source": [
    "#### Use your function to create a dictionary of your Johto League 6  (favorite 6 pokemon)"
   ]
  },
  {
   "cell_type": "code",
   "execution_count": 19,
   "metadata": {},
   "outputs": [
    {
     "ename": "AttributeError",
     "evalue": "'str' object has no attribute 'name'",
     "output_type": "error",
     "traceback": [
      "\u001b[1;31m---------------------------------------------------------------------------\u001b[0m",
      "\u001b[1;31mAttributeError\u001b[0m                            Traceback (most recent call last)",
      "Cell \u001b[1;32mIn[19], line 5\u001b[0m\n\u001b[0;32m      2\u001b[0m my_six_pokemon \u001b[39m=\u001b[39m {}\n\u001b[0;32m      4\u001b[0m \u001b[39mfor\u001b[39;00m team_member \u001b[39min\u001b[39;00m your_team:\n\u001b[1;32m----> 5\u001b[0m     my_six_pokemon[team_member\u001b[39m.\u001b[39;49mname] \u001b[39m=\u001b[39m team_member\n\u001b[0;32m      7\u001b[0m \u001b[39mprint\u001b[39m(my_six_pokemon)\n",
      "\u001b[1;31mAttributeError\u001b[0m: 'str' object has no attribute 'name'"
     ]
    }
   ],
   "source": [
    "# Place all 6 of your pokemon on the object below, each pokemon should have at least as much info as Pikachu did.\n",
    "my_six_pokemon = {}\n",
    "\n",
    "for team_member in your_team:\n",
    "    my_six_pokemon[team_member.name] = team_member\n",
    "\n",
    "print(my_six_pokemon)"
   ]
  },
  {
   "cell_type": "markdown",
   "metadata": {},
   "source": [
    "## Lets create a class called 'Pokemon' and create our pokemon as instances"
   ]
  },
  {
   "cell_type": "code",
   "execution_count": 5,
   "metadata": {},
   "outputs": [],
   "source": [
    "# Create a structure for a single pokemon\n",
    "class Pokemon:\n",
    "    def __init__(self, name):\n",
    "        self.name = name\n",
    "        self.types = None\n",
    "        self.weight = None\n",
    "        self.abilities = None\n",
    "        self.sprite = None\n",
    "        self.poke_api_call()\n",
    "        \n",
    "    def poke_api_call(self):\n",
    "        response = requests.get(f'https://pokeapi.co/api/v2/pokemon/{self.name}/')\n",
    "        if response.status_code == 200:\n",
    "            data = response.json()\n",
    "            self.name = data['name']\n",
    "            type_list = data['types']\n",
    "            self.types = list(map(lambda x: x['type']['name'], type_list))\n",
    "            self.weight = data['weight']\n",
    "            abilities = data['abilities']\n",
    "            self.abilities = list(map(lambda x: x['ability']['name'], abilities))\n",
    "            self.sprite = data['sprites']['front_default']\n",
    "        else:\n",
    "            print(f'ERROR, STATUS CODE {response.status_code}')"
   ]
  },
  {
   "cell_type": "markdown",
   "metadata": {},
   "source": [
    "### Let's Catch some Pokemon"
   ]
  },
  {
   "cell_type": "code",
   "execution_count": 6,
   "metadata": {},
   "outputs": [],
   "source": [
    "class Pokedex:\n",
    "    def __init__(self):\n",
    "        self.pokemon = {}\n",
    "        \n",
    "    def add_pokemon(self,name):\n",
    "        new_pokemon = Pokemon(name)\n",
    "        self.pokemon[new_pokemon.name] = new_pokemon\n"
   ]
  },
  {
   "cell_type": "code",
   "execution_count": 7,
   "metadata": {},
   "outputs": [],
   "source": [
    "my_pokedex = Pokedex()"
   ]
  },
  {
   "cell_type": "code",
   "execution_count": 8,
   "metadata": {},
   "outputs": [],
   "source": [
    "my_pokedex.add_pokemon('squirtle')"
   ]
  },
  {
   "cell_type": "code",
   "execution_count": 9,
   "metadata": {},
   "outputs": [],
   "source": [
    "my_pokedex.add_pokemon(7)\n"
   ]
  },
  {
   "cell_type": "code",
   "execution_count": 10,
   "metadata": {},
   "outputs": [
    {
     "data": {
      "text/plain": [
       "{'squirtle': <__main__.Pokemon at 0x1d9c3d9b700>}"
      ]
     },
     "execution_count": 10,
     "metadata": {},
     "output_type": "execute_result"
    }
   ],
   "source": [
    "my_pokedex.pokemon"
   ]
  },
  {
   "cell_type": "markdown",
   "metadata": {},
   "source": [
    "## Exercise 1:"
   ]
  },
  {
   "cell_type": "markdown",
   "metadata": {},
   "source": [
    "### Create a Method prints an image of your pokemon\n",
    "\n",
    "<p>HINT: You may need another attribute as well to store your image url within. </p>"
   ]
  },
  {
   "cell_type": "code",
   "execution_count": 3,
   "metadata": {},
   "outputs": [],
   "source": [
    "class Pokemon:\n",
    "    def __init__(self, name):\n",
    "        self.name = name\n",
    "        self.types = None\n",
    "        self.weight = None\n",
    "        self.abilities = None\n",
    "        self.sprite = None\n",
    "        self.poke_api_call()\n",
    "        \n",
    "    def poke_api_call(self):\n",
    "        response = requests.get(f'https://pokeapi.co/api/v2/pokemon/{self.name}/')\n",
    "        if response.status_code == 200:\n",
    "            data = response.json()\n",
    "            self.name = data['name']\n",
    "            type_list = data['types']\n",
    "            self.types = list(map(lambda x: x['type']['name'], type_list))\n",
    "            self.weight = data['weight']\n",
    "            abilities = data['abilities']\n",
    "            self.abilities = list(map(lambda x: x['ability']['name'], abilities))\n",
    "            self.sprite = data['sprites']['front_default']\n",
    "        else:\n",
    "            print(f'ERROR, STATUS CODE {response.status_code}')\n",
    "\n",
    "    def display_pokemon(self):\n",
    "        display(Image(self.sprite), width = 300)"
   ]
  },
  {
   "cell_type": "code",
   "execution_count": 4,
   "metadata": {},
   "outputs": [],
   "source": [
    "squirtle = Pokemon('squirtle')"
   ]
  },
  {
   "cell_type": "code",
   "execution_count": 5,
   "metadata": {},
   "outputs": [],
   "source": [
    "from IPython.display import Image\n",
    "\n",
    "# display(Image( 'https://raw.githubusercontent.com/PokeAPI/sprites/master/sprites/pokemon/7.png', width = 300))\n"
   ]
  },
  {
   "cell_type": "code",
   "execution_count": 7,
   "metadata": {},
   "outputs": [],
   "source": [
    "class Pokemon:\n",
    "    def __init__(self, name):\n",
    "        self.name = name\n",
    "        self.types = None\n",
    "        self.weight = None\n",
    "        self.abilities = None\n",
    "        self.sprite = None\n",
    "        self.poke_api_call()\n",
    "        \n",
    "    def poke_api_call(self):\n",
    "        response = requests.get(f'https://pokeapi.co/api/v2/pokemon/{self.name}/')\n",
    "        if response.status_code == 200:\n",
    "            data = response.json()\n",
    "            self.name = data['name']\n",
    "            type_list = data['types']\n",
    "            self.types = list(map(lambda x: x['type']['name'], type_list))\n",
    "            self.weight = data['weight']\n",
    "            abilities = data['abilities']\n",
    "            self.abilities = list(map(lambda x: x['ability']['name'], abilities))\n",
    "            self.sprite = data['sprites']['front_default']\n",
    "        else:\n",
    "            print(f'ERROR, STATUS CODE {response.status_code}')\n",
    "\n",
    "    def display_pokemon(self):\n",
    "        display(Image(self.sprite))"
   ]
  },
  {
   "cell_type": "code",
   "execution_count": 8,
   "metadata": {},
   "outputs": [],
   "source": [
    "squirtle = Pokemon('squirtle')"
   ]
  },
  {
   "cell_type": "code",
   "execution_count": 9,
   "metadata": {},
   "outputs": [
    {
     "data": {
      "image/png": "[encoded data removed]",
      "text/plain": [
       "<IPython.core.display.Image object>"
      ]
     },
     "metadata": {},
     "output_type": "display_data"
    }
   ],
   "source": [
    "squirtle.display_pokemon()"
   ]
  },
  {
   "cell_type": "markdown",
   "metadata": {},
   "source": [
    "## Exercise 2:"
   ]
  },
  {
   "cell_type": "markdown",
   "metadata": {},
   "source": [
    "### Create a Method that evolves your Pokemon\n",
    "If your pokemon can't evolve any further print a message that says \"\\<name of pokemon> can't evolve.\""
   ]
  },
  {
   "cell_type": "code",
   "execution_count": 375,
   "metadata": {},
   "outputs": [
    {
     "name": "stdout",
     "output_type": "stream",
     "text": [
      "Pokemon: Squirtle, Level: 1\n",
      "Pokemon: Wartortle, Level: 1\n",
      "Pokemon: Blastoise, Level: 1\n"
     ]
    }
   ],
   "source": [
    "class Pokemon():\n",
    "    def __init__(self, name, level=0,):\n",
    "        self.level = level\n",
    "        self.name = name\n",
    "        \n",
    "    def evolve(self):\n",
    "        self.level += 1\n",
    "        if self.level > 10:\n",
    "            return('Pokemon: {}, level: MAXED ready to evolve'.format(self.name, self.level))\n",
    "        else:\n",
    "            return ('Pokemon: {}, Level: {}'.format(self.name, self.level))\n",
    "\n",
    "    def __str__(self):\n",
    "        if self.level > 10:\n",
    "            return('Pokemon: {}, level: MAXED ready to evolve'.format(self.name, self.level))\n",
    "        else:\n",
    "            return ('Pokemon: {}, Level: {}'.format(self.name, self.level))\n",
    "       \n",
    "\n",
    "class Squirtle():\n",
    "    def __init__(self, name, level=0, max_level=10):\n",
    "        self.level = level\n",
    "        self.name = name\n",
    "        self.max_level = 10\n",
    "\n",
    "    def evolve(self):\n",
    "        if self.level >= 10:\n",
    "            new_pokemon = Pokemon(name)\n",
    "            Squirtle[new_pokemon.Wartortle] = new_pokemon\n",
    "            print('max_level reached. Squirtle is evolving.')\n",
    "\n",
    "\n",
    "class Wartortle():\n",
    "    def __init__(self, name, level=0, max_level=20):\n",
    "        self.level = level\n",
    "        self.name = name\n",
    "        self.max_level = 20\n",
    "\n",
    "class Blastoise():\n",
    "    def __init__(self, name, level=0, max_level=50):\n",
    "        self.level = level\n",
    "        self.name = name\n",
    "        self.max_level = 50\n",
    "\n",
    "squirtle = Pokemon('Squirtle')\n",
    "wartortle = Pokemon('Wartortle')\n",
    "blastoise = Pokemon('Blastoise')\n",
    "\n",
    "squirtle.evolve()\n",
    "wartortle.evolve()\n",
    "blastoise.evolve()\n",
    "\n",
    "print(squirtle)\n",
    "print(wartortle)\n",
    "print(blastoise)\n",
    "        \n",
    "\n",
    "\n"
   ]
  },
  {
   "cell_type": "code",
   "execution_count": 405,
   "metadata": {},
   "outputs": [
    {
     "name": "stdout",
     "output_type": "stream",
     "text": [
      "Pokemon: Squirtle, level: MAXED ready to evolve\n",
      "Pokemon: Wartortle, level: MAXED ready to evolve\n",
      "Pokemon: Blastoise, level: MAXED ready to evolve\n"
     ]
    }
   ],
   "source": [
    "squirtle.evolve()\n",
    "print(squirtle)\n",
    "wartortle.evolve()\n",
    "print(wartortle)\n",
    "blastoise.evolve()\n",
    "print(blastoise)"
   ]
  },
  {
   "cell_type": "code",
   "execution_count": null,
   "metadata": {},
   "outputs": [],
   "source": []
  },
  {
   "cell_type": "code",
   "execution_count": null,
   "metadata": {},
   "outputs": [],
   "source": []
  },
  {
   "cell_type": "markdown",
   "metadata": {},
   "source": [
    "Now let's evolve a few"
   ]
  },
  {
   "cell_type": "code",
   "execution_count": null,
   "metadata": {},
   "outputs": [],
   "source": []
  },
  {
   "cell_type": "markdown",
   "metadata": {},
   "source": [
    "#  Final Exercise: <br> <br>Create a Move_Tutor Class that will allow the Pokemon Class to inherit a move list.\n",
    "<br>\n",
    "<p>for an added bonus you can make sure that if a pokemon has 4 moves the user can choose one of them to replace with a new move. </p>"
   ]
  },
  {
   "cell_type": "code",
   "execution_count": null,
   "metadata": {},
   "outputs": [],
   "source": [
    "class Move_Tutor:\n",
    "    def __init__(self):\n",
    "        self.move_list = []"
   ]
  },
  {
   "cell_type": "code",
   "execution_count": null,
   "metadata": {},
   "outputs": [],
   "source": []
  },
  {
   "cell_type": "code",
   "execution_count": null,
   "metadata": {},
   "outputs": [
    {
     "name": "stdout",
     "output_type": "stream",
     "text": [
      "What move would you like to teach pikachu? spark\n",
      "pikachu learned spark!\n"
     ]
    }
   ],
   "source": [
    "pikachu.teach_move()\n"
   ]
  },
  {
   "cell_type": "code",
   "execution_count": null,
   "metadata": {},
   "outputs": [
    {
     "name": "stdout",
     "output_type": "stream",
     "text": [
      "pikachu's moves'\n",
      "thunder\n",
      "surf\n",
      "earthquake\n"
     ]
    }
   ],
   "source": [
    "pikachu.show_moves()"
   ]
  }
 ],
 "metadata": {
  "kernelspec": {
   "display_name": "base",
   "language": "python",
   "name": "python3"
  },
  "language_info": {
   "codemirror_mode": {
    "name": "ipython",
    "version": 3
   },
   "file_extension": ".py",
   "mimetype": "text/x-python",
   "name": "python",
   "nbconvert_exporter": "python",
   "pygments_lexer": "ipython3",
   "version": "3.9.13"
  },
  "vscode": {
   "interpreter": {
    "hash": "ad2bdc8ecc057115af97d19610ffacc2b4e99fae6737bb82f5d7fb13d2f2c186"
   }
  }
 },
 "nbformat": 4,
 "nbformat_minor": 4
}
